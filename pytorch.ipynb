{
  "cells": [
    {
      "cell_type": "markdown",
      "metadata": {
        "colab_type": "text",
        "id": "view-in-github"
      },
      "source": [
        "<a href=\"https://colab.research.google.com/github/rejithkrishnan/pytorch/blob/main/pytorch.ipynb\" target=\"_parent\"><img src=\"https://colab.research.google.com/assets/colab-badge.svg\" alt=\"Open In Colab\"/></a>"
      ]
    },
    {
      "cell_type": "code",
      "execution_count": 4,
      "metadata": {
        "colab": {
          "base_uri": "https://localhost:8080/"
        },
        "id": "Ts--LxRqI6h6",
        "outputId": "99a938e4-dc9c-4175-c9e7-3186b3175190"
      },
      "outputs": [],
      "source": [
        "import torch\n",
        "import numpy as np\n",
        "import torch.nn as nn\n",
        "import torch.nn.functional as F\n"
      ]
    },
    {
      "cell_type": "code",
      "execution_count": 5,
      "metadata": {
        "id": "w63tHXlcJEo0"
      },
      "outputs": [
        {
          "data": {
            "text/plain": [
              "tensor([0, 1, 2, 3, 4, 5, 6, 7, 8, 9])"
            ]
          },
          "execution_count": 5,
          "metadata": {},
          "output_type": "execute_result"
        }
      ],
      "source": [
        "mt = torch.arange(10)\n",
        "mt"
      ]
    },
    {
      "cell_type": "code",
      "execution_count": 6,
      "metadata": {},
      "outputs": [
        {
          "data": {
            "text/plain": [
              "tensor([[0, 1],\n",
              "        [2, 3],\n",
              "        [4, 5],\n",
              "        [6, 7],\n",
              "        [8, 9]])"
            ]
          },
          "execution_count": 6,
          "metadata": {},
          "output_type": "execute_result"
        }
      ],
      "source": [
        "mt=mt.reshape(5,2)\n",
        "mt"
      ]
    },
    {
      "cell_type": "code",
      "execution_count": 7,
      "metadata": {},
      "outputs": [
        {
          "data": {
            "text/plain": [
              "tensor([[3],\n",
              "        [5]])"
            ]
          },
          "execution_count": 7,
          "metadata": {},
          "output_type": "execute_result"
        }
      ],
      "source": [
        "mt1=mt[1:3,1:]\n",
        "mt1"
      ]
    },
    {
      "cell_type": "code",
      "execution_count": 8,
      "metadata": {},
      "outputs": [],
      "source": [
        "ta = torch.tensor([1,2,3])\n",
        "tb = torch.tensor([4,5,6])"
      ]
    },
    {
      "cell_type": "code",
      "execution_count": 9,
      "metadata": {},
      "outputs": [
        {
          "name": "stdout",
          "output_type": "stream",
          "text": [
            "tensor([-3, -3, -3])\n"
          ]
        }
      ],
      "source": [
        "print(torch.sub(ta,tb))"
      ]
    },
    {
      "cell_type": "markdown",
      "metadata": {},
      "source": [
        "### Create basic Neural Netwrok"
      ]
    },
    {
      "cell_type": "code",
      "execution_count": 10,
      "metadata": {},
      "outputs": [],
      "source": [
        "class Model(nn.Module):\n",
        "    def __init__(self,in_features=4,out_features=3,h1=8,h2=9):\n",
        "        super().__init__()\n",
        "        self.fc1 = nn.Linear(in_features,h1) \n",
        "        self.fc2 = nn.Linear(h1,h2) \n",
        "        self.fc3 = nn.Linear(h2,out_features) \n",
        "\n",
        "    def forward(self,x):\n",
        "        x = F.relu(self.fc1(x))\n",
        "        x = F.relu(self.fc2(x))\n",
        "        x = self.fc3(x)\n",
        "        return x"
      ]
    },
    {
      "cell_type": "code",
      "execution_count": 11,
      "metadata": {},
      "outputs": [],
      "source": [
        "torch.manual_seed(41)\n",
        "model = Model()"
      ]
    },
    {
      "cell_type": "code",
      "execution_count": 12,
      "metadata": {},
      "outputs": [],
      "source": [
        "import pandas as pd\n",
        "import matplotlib.pyplot as plt\n",
        "%matplotlib inline"
      ]
    },
    {
      "cell_type": "code",
      "execution_count": 13,
      "metadata": {},
      "outputs": [],
      "source": [
        "url = 'https://gist.githubusercontent.com/curran/a08a1080b88344b0c8a7/raw/0e7a9b0a5d22642a06d3d5b9bcbad9890c8ee534/iris.csv'\n",
        "my_df = pd.read_csv(url)"
      ]
    },
    {
      "cell_type": "code",
      "execution_count": 31,
      "metadata": {},
      "outputs": [
        {
          "data": {
            "text/html": [
              "<div>\n",
              "<style scoped>\n",
              "    .dataframe tbody tr th:only-of-type {\n",
              "        vertical-align: middle;\n",
              "    }\n",
              "\n",
              "    .dataframe tbody tr th {\n",
              "        vertical-align: top;\n",
              "    }\n",
              "\n",
              "    .dataframe thead th {\n",
              "        text-align: right;\n",
              "    }\n",
              "</style>\n",
              "<table border=\"1\" class=\"dataframe\">\n",
              "  <thead>\n",
              "    <tr style=\"text-align: right;\">\n",
              "      <th></th>\n",
              "      <th>sepal_length</th>\n",
              "      <th>sepal_width</th>\n",
              "      <th>petal_length</th>\n",
              "      <th>petal_width</th>\n",
              "      <th>species</th>\n",
              "    </tr>\n",
              "  </thead>\n",
              "  <tbody>\n",
              "    <tr>\n",
              "      <th>0</th>\n",
              "      <td>5.1</td>\n",
              "      <td>3.5</td>\n",
              "      <td>1.4</td>\n",
              "      <td>0.2</td>\n",
              "      <td>0.0</td>\n",
              "    </tr>\n",
              "    <tr>\n",
              "      <th>1</th>\n",
              "      <td>4.9</td>\n",
              "      <td>3.0</td>\n",
              "      <td>1.4</td>\n",
              "      <td>0.2</td>\n",
              "      <td>0.0</td>\n",
              "    </tr>\n",
              "    <tr>\n",
              "      <th>2</th>\n",
              "      <td>4.7</td>\n",
              "      <td>3.2</td>\n",
              "      <td>1.3</td>\n",
              "      <td>0.2</td>\n",
              "      <td>0.0</td>\n",
              "    </tr>\n",
              "    <tr>\n",
              "      <th>3</th>\n",
              "      <td>4.6</td>\n",
              "      <td>3.1</td>\n",
              "      <td>1.5</td>\n",
              "      <td>0.2</td>\n",
              "      <td>0.0</td>\n",
              "    </tr>\n",
              "    <tr>\n",
              "      <th>4</th>\n",
              "      <td>5.0</td>\n",
              "      <td>3.6</td>\n",
              "      <td>1.4</td>\n",
              "      <td>0.2</td>\n",
              "      <td>0.0</td>\n",
              "    </tr>\n",
              "    <tr>\n",
              "      <th>...</th>\n",
              "      <td>...</td>\n",
              "      <td>...</td>\n",
              "      <td>...</td>\n",
              "      <td>...</td>\n",
              "      <td>...</td>\n",
              "    </tr>\n",
              "    <tr>\n",
              "      <th>145</th>\n",
              "      <td>6.7</td>\n",
              "      <td>3.0</td>\n",
              "      <td>5.2</td>\n",
              "      <td>2.3</td>\n",
              "      <td>2.0</td>\n",
              "    </tr>\n",
              "    <tr>\n",
              "      <th>146</th>\n",
              "      <td>6.3</td>\n",
              "      <td>2.5</td>\n",
              "      <td>5.0</td>\n",
              "      <td>1.9</td>\n",
              "      <td>2.0</td>\n",
              "    </tr>\n",
              "    <tr>\n",
              "      <th>147</th>\n",
              "      <td>6.5</td>\n",
              "      <td>3.0</td>\n",
              "      <td>5.2</td>\n",
              "      <td>2.0</td>\n",
              "      <td>2.0</td>\n",
              "    </tr>\n",
              "    <tr>\n",
              "      <th>148</th>\n",
              "      <td>6.2</td>\n",
              "      <td>3.4</td>\n",
              "      <td>5.4</td>\n",
              "      <td>2.3</td>\n",
              "      <td>2.0</td>\n",
              "    </tr>\n",
              "    <tr>\n",
              "      <th>149</th>\n",
              "      <td>5.9</td>\n",
              "      <td>3.0</td>\n",
              "      <td>5.1</td>\n",
              "      <td>1.8</td>\n",
              "      <td>2.0</td>\n",
              "    </tr>\n",
              "  </tbody>\n",
              "</table>\n",
              "<p>150 rows × 5 columns</p>\n",
              "</div>"
            ],
            "text/plain": [
              "     sepal_length  sepal_width  petal_length  petal_width species\n",
              "0             5.1          3.5           1.4          0.2     0.0\n",
              "1             4.9          3.0           1.4          0.2     0.0\n",
              "2             4.7          3.2           1.3          0.2     0.0\n",
              "3             4.6          3.1           1.5          0.2     0.0\n",
              "4             5.0          3.6           1.4          0.2     0.0\n",
              "..            ...          ...           ...          ...     ...\n",
              "145           6.7          3.0           5.2          2.3     2.0\n",
              "146           6.3          2.5           5.0          1.9     2.0\n",
              "147           6.5          3.0           5.2          2.0     2.0\n",
              "148           6.2          3.4           5.4          2.3     2.0\n",
              "149           5.9          3.0           5.1          1.8     2.0\n",
              "\n",
              "[150 rows x 5 columns]"
            ]
          },
          "execution_count": 31,
          "metadata": {},
          "output_type": "execute_result"
        }
      ],
      "source": [
        "# my_df['species'] = my_df['species'].replace('setosa',0.0)\n",
        "# my_df['species'] = my_df['species'].replace('versicolor',1.0)\n",
        "# my_df['species'] = my_df['species'].replace('virginica',2.0)\n",
        "# my_df\n",
        "url = 'https://gist.githubusercontent.com/curran/a08a1080b88344b0c8a7/raw/0e7a9b0a5d22642a06d3d5b9bcbad9890c8ee534/iris.csv'\n",
        "my_df = pd.read_csv(url)\n",
        "my_df.loc[my_df['species']=='setosa','species' ] = float(0.0)\n",
        "my_df.loc[my_df['species']=='versicolor','species' ] = float(1.0)\n",
        "my_df.loc[my_df['species']=='virginica','species' ] = float(2.0)\n",
        "my_df"
      ]
    },
    {
      "cell_type": "code",
      "execution_count": 47,
      "metadata": {},
      "outputs": [],
      "source": [
        "X = my_df.drop('species',axis=1)\n",
        "Y= my_df['species']\n",
        "X = X.values\n",
        "Y = Y.to_numpy(dtype=float)\n"
      ]
    },
    {
      "cell_type": "code",
      "execution_count": 48,
      "metadata": {},
      "outputs": [
        {
          "data": {
            "text/plain": [
              "array([0., 0., 0., 0., 0., 0., 0., 0., 0., 0., 0., 0., 0., 0., 0., 0., 0.,\n",
              "       0., 0., 0., 0., 0., 0., 0., 0., 0., 0., 0., 0., 0., 0., 0., 0., 0.,\n",
              "       0., 0., 0., 0., 0., 0., 0., 0., 0., 0., 0., 0., 0., 0., 0., 0., 1.,\n",
              "       1., 1., 1., 1., 1., 1., 1., 1., 1., 1., 1., 1., 1., 1., 1., 1., 1.,\n",
              "       1., 1., 1., 1., 1., 1., 1., 1., 1., 1., 1., 1., 1., 1., 1., 1., 1.,\n",
              "       1., 1., 1., 1., 1., 1., 1., 1., 1., 1., 1., 1., 1., 1., 1., 2., 2.,\n",
              "       2., 2., 2., 2., 2., 2., 2., 2., 2., 2., 2., 2., 2., 2., 2., 2., 2.,\n",
              "       2., 2., 2., 2., 2., 2., 2., 2., 2., 2., 2., 2., 2., 2., 2., 2., 2.,\n",
              "       2., 2., 2., 2., 2., 2., 2., 2., 2., 2., 2., 2., 2., 2.])"
            ]
          },
          "execution_count": 48,
          "metadata": {},
          "output_type": "execute_result"
        }
      ],
      "source": [
        "from sklearn.model_selection import train_test_split\n",
        "Y"
      ]
    },
    {
      "cell_type": "code",
      "execution_count": 50,
      "metadata": {},
      "outputs": [
        {
          "data": {
            "text/plain": [
              "tensor([[5.7000, 2.6000, 3.5000, 1.0000],\n",
              "        [6.5000, 2.8000, 4.6000, 1.5000],\n",
              "        [4.9000, 2.5000, 4.5000, 1.7000],\n",
              "        [5.5000, 2.6000, 4.4000, 1.2000],\n",
              "        [6.7000, 3.0000, 5.2000, 2.3000],\n",
              "        [5.8000, 4.0000, 1.2000, 0.2000],\n",
              "        [6.9000, 3.1000, 5.1000, 2.3000],\n",
              "        [6.4000, 3.2000, 4.5000, 1.5000],\n",
              "        [6.9000, 3.1000, 5.4000, 2.1000],\n",
              "        [5.9000, 3.2000, 4.8000, 1.8000],\n",
              "        [6.2000, 2.9000, 4.3000, 1.3000],\n",
              "        [5.7000, 2.8000, 4.5000, 1.3000],\n",
              "        [5.2000, 4.1000, 1.5000, 0.1000],\n",
              "        [6.5000, 3.0000, 5.8000, 2.2000],\n",
              "        [6.3000, 3.4000, 5.6000, 2.4000],\n",
              "        [5.7000, 3.8000, 1.7000, 0.3000],\n",
              "        [6.7000, 2.5000, 5.8000, 1.8000],\n",
              "        [5.1000, 2.5000, 3.0000, 1.1000],\n",
              "        [4.8000, 3.0000, 1.4000, 0.3000],\n",
              "        [6.2000, 2.2000, 4.5000, 1.5000],\n",
              "        [6.4000, 2.7000, 5.3000, 1.9000],\n",
              "        [5.8000, 2.7000, 3.9000, 1.2000],\n",
              "        [7.4000, 2.8000, 6.1000, 1.9000],\n",
              "        [5.2000, 3.5000, 1.5000, 0.2000],\n",
              "        [5.5000, 4.2000, 1.4000, 0.2000],\n",
              "        [5.9000, 3.0000, 5.1000, 1.8000],\n",
              "        [6.2000, 2.8000, 4.8000, 1.8000],\n",
              "        [4.6000, 3.1000, 1.5000, 0.2000],\n",
              "        [5.6000, 3.0000, 4.5000, 1.5000],\n",
              "        [4.6000, 3.4000, 1.4000, 0.3000],\n",
              "        [4.9000, 3.1000, 1.5000, 0.1000],\n",
              "        [6.6000, 3.0000, 4.4000, 1.4000],\n",
              "        [5.4000, 3.9000, 1.3000, 0.4000],\n",
              "        [4.9000, 2.4000, 3.3000, 1.0000],\n",
              "        [6.2000, 3.4000, 5.4000, 2.3000],\n",
              "        [5.0000, 3.0000, 1.6000, 0.2000],\n",
              "        [6.3000, 2.3000, 4.4000, 1.3000],\n",
              "        [5.7000, 2.8000, 4.1000, 1.3000],\n",
              "        [5.6000, 2.8000, 4.9000, 2.0000],\n",
              "        [5.1000, 3.5000, 1.4000, 0.2000],\n",
              "        [5.7000, 2.9000, 4.2000, 1.3000],\n",
              "        [5.0000, 2.0000, 3.5000, 1.0000],\n",
              "        [4.8000, 3.4000, 1.9000, 0.2000],\n",
              "        [7.7000, 2.6000, 6.9000, 2.3000],\n",
              "        [6.3000, 2.5000, 4.9000, 1.5000],\n",
              "        [5.1000, 3.5000, 1.4000, 0.3000],\n",
              "        [6.5000, 3.0000, 5.5000, 1.8000],\n",
              "        [6.3000, 2.5000, 5.0000, 1.9000],\n",
              "        [4.4000, 3.2000, 1.3000, 0.2000],\n",
              "        [6.7000, 3.0000, 5.0000, 1.7000],\n",
              "        [5.4000, 3.7000, 1.5000, 0.2000],\n",
              "        [5.0000, 3.5000, 1.3000, 0.3000],\n",
              "        [6.7000, 3.3000, 5.7000, 2.1000],\n",
              "        [7.7000, 3.8000, 6.7000, 2.2000],\n",
              "        [5.7000, 2.5000, 5.0000, 2.0000],\n",
              "        [4.6000, 3.2000, 1.4000, 0.2000],\n",
              "        [4.7000, 3.2000, 1.6000, 0.2000],\n",
              "        [5.0000, 3.4000, 1.5000, 0.2000],\n",
              "        [4.8000, 3.4000, 1.6000, 0.2000],\n",
              "        [5.3000, 3.7000, 1.5000, 0.2000],\n",
              "        [6.1000, 2.6000, 5.6000, 1.4000],\n",
              "        [6.0000, 3.0000, 4.8000, 1.8000],\n",
              "        [5.5000, 3.5000, 1.3000, 0.2000],\n",
              "        [7.2000, 3.2000, 6.0000, 1.8000],\n",
              "        [7.0000, 3.2000, 4.7000, 1.4000],\n",
              "        [5.7000, 4.4000, 1.5000, 0.4000],\n",
              "        [4.3000, 3.0000, 1.1000, 0.1000],\n",
              "        [6.5000, 3.2000, 5.1000, 2.0000],\n",
              "        [5.8000, 2.7000, 5.1000, 1.9000],\n",
              "        [6.4000, 3.2000, 5.3000, 2.3000],\n",
              "        [6.1000, 2.8000, 4.7000, 1.2000],\n",
              "        [6.0000, 2.9000, 4.5000, 1.5000],\n",
              "        [5.8000, 2.7000, 5.1000, 1.9000],\n",
              "        [4.9000, 3.0000, 1.4000, 0.2000],\n",
              "        [6.6000, 2.9000, 4.6000, 1.3000],\n",
              "        [7.1000, 3.0000, 5.9000, 2.1000],\n",
              "        [6.4000, 2.9000, 4.3000, 1.3000],\n",
              "        [6.9000, 3.1000, 4.9000, 1.5000],\n",
              "        [4.4000, 2.9000, 1.4000, 0.2000],\n",
              "        [5.7000, 3.0000, 4.2000, 1.2000],\n",
              "        [5.1000, 3.7000, 1.5000, 0.4000],\n",
              "        [5.9000, 3.0000, 4.2000, 1.5000],\n",
              "        [5.4000, 3.4000, 1.5000, 0.4000],\n",
              "        [5.6000, 2.7000, 4.2000, 1.3000],\n",
              "        [7.3000, 2.9000, 6.3000, 1.8000],\n",
              "        [6.3000, 3.3000, 6.0000, 2.5000],\n",
              "        [6.7000, 3.3000, 5.7000, 2.5000],\n",
              "        [5.1000, 3.8000, 1.6000, 0.2000],\n",
              "        [4.9000, 3.1000, 1.5000, 0.1000],\n",
              "        [4.6000, 3.6000, 1.0000, 0.2000],\n",
              "        [5.1000, 3.8000, 1.9000, 0.4000],\n",
              "        [6.3000, 2.9000, 5.6000, 1.8000],\n",
              "        [5.4000, 3.9000, 1.7000, 0.4000],\n",
              "        [5.4000, 3.4000, 1.7000, 0.2000],\n",
              "        [5.6000, 2.5000, 3.9000, 1.1000],\n",
              "        [6.4000, 2.8000, 5.6000, 2.2000],\n",
              "        [5.0000, 3.2000, 1.2000, 0.2000],\n",
              "        [5.8000, 2.8000, 5.1000, 2.4000],\n",
              "        [4.8000, 3.0000, 1.4000, 0.1000],\n",
              "        [6.8000, 2.8000, 4.8000, 1.4000],\n",
              "        [7.2000, 3.0000, 5.8000, 1.6000],\n",
              "        [5.2000, 2.7000, 3.9000, 1.4000],\n",
              "        [5.0000, 3.6000, 1.4000, 0.2000],\n",
              "        [6.4000, 3.1000, 5.5000, 1.8000],\n",
              "        [5.1000, 3.8000, 1.5000, 0.3000],\n",
              "        [5.5000, 2.3000, 4.0000, 1.3000],\n",
              "        [5.2000, 3.4000, 1.4000, 0.2000],\n",
              "        [7.7000, 2.8000, 6.7000, 2.0000],\n",
              "        [5.8000, 2.6000, 4.0000, 1.2000],\n",
              "        [5.6000, 3.0000, 4.1000, 1.3000],\n",
              "        [7.6000, 3.0000, 6.6000, 2.1000],\n",
              "        [6.7000, 3.1000, 4.7000, 1.5000],\n",
              "        [5.4000, 3.0000, 4.5000, 1.5000],\n",
              "        [7.9000, 3.8000, 6.4000, 2.0000],\n",
              "        [7.2000, 3.6000, 6.1000, 2.5000],\n",
              "        [5.0000, 3.4000, 1.6000, 0.4000],\n",
              "        [5.5000, 2.5000, 4.0000, 1.3000],\n",
              "        [6.7000, 3.1000, 4.4000, 1.4000],\n",
              "        [5.5000, 2.4000, 3.8000, 1.1000],\n",
              "        [6.7000, 3.1000, 5.6000, 2.4000]])"
            ]
          },
          "execution_count": 50,
          "metadata": {},
          "output_type": "execute_result"
        }
      ],
      "source": [
        "X_train, X_test, y_train, y_test = train_test_split(X, Y,test_size=0.2, random_state=41)\n",
        "X_train = torch.FloatTensor(X_train)\n",
        "X_test = torch.FloatTensor(X_test)\n",
        "y_train = torch.LongTensor(y_train)\n",
        "y_test = torch.LongTensor(y_test)\n",
        "X_train"
      ]
    }
  ],
  "metadata": {
    "accelerator": "GPU",
    "colab": {
      "authorship_tag": "ABX9TyOJ5kiFhilpfYlL1ZEHtbrw",
      "gpuType": "T4",
      "include_colab_link": true,
      "provenance": []
    },
    "kernelspec": {
      "display_name": "Python 3",
      "name": "python3"
    },
    "language_info": {
      "codemirror_mode": {
        "name": "ipython",
        "version": 3
      },
      "file_extension": ".py",
      "mimetype": "text/x-python",
      "name": "python",
      "nbconvert_exporter": "python",
      "pygments_lexer": "ipython3",
      "version": "3.12.4"
    }
  },
  "nbformat": 4,
  "nbformat_minor": 0
}
